{
 "cells": [
  {
   "cell_type": "markdown",
   "id": "728ce224-8da5-43dc-b310-7a957adca697",
   "metadata": {},
   "source": [
    "# 🧪 Panel Chemistry - JSME Editor\n",
    "\n",
    "The Panel Chemistry `JSMEEditor` allows you to use the powerful [JSME Editor](https://jsme-editor.github.io/) using Python 🐍 and [HoloViz Panel](https://panel.holoviz.org/) ❤️. \n",
    "\n",
    "![JSME Editor App](../assets/jsme-editor-app.png)\n",
    "\n",
    "Checkout the announcing article:\n",
    "\n",
    "- B. Bienfait and P. Ertl, [JSME: a free molecule editor in JavaScript](https://jcheminf.biomedcentral.com/articles/10.1186/1758-2946-5-24), J. Cheminformatics 5:24 (2013)\n",
    "\n",
    "## Parameters:\n",
    "\n",
    "* **``value``** (str): A value definining the structure of the molecule.\n",
    "    - The value provided from Python can be any of the available `format` values. \n",
    "    - The value returned from the client will be in the specified `format` value.\n",
    "* **``format``** (str): The format of the structure returned from the client. Can be any of `jme` (default), `smiles`, `mol`, `mol3000`, `sdf`.\n",
    "* **``options``** (list): A list of options to apply to the editor. Default is [], i.e. to use the default settings.\n",
    "* **``subscriptions``** (list): A list of structure formats to \"subscribe\" to changes of. Can be any of `jme`, `smiles`, `mol`, `mol3000`, `sdf`. Default is [].\n",
    "\n",
    "The `jsme`, `smiles`, `mol`, `mol3000` and `sdf` parameters will provide the structure value if it is included in the `subscriptions` list.\n",
    "\n",
    "For layout and styling related parameters see the [Panel Customization Guide](https://panel.holoviz.org/user_guide/Customization.html)."
   ]
  },
  {
   "cell_type": "markdown",
   "id": "061ae600-7d0a-4707-9ed2-d7ba2c559f0f",
   "metadata": {},
   "source": [
    "## Example - Basic"
   ]
  },
  {
   "cell_type": "code",
   "execution_count": null,
   "id": "6b53c66f-a059-4727-8cc1-f502c7b800d7",
   "metadata": {},
   "outputs": [],
   "source": [
    "import panel as pn \n",
    "from panel_chemistry.widgets import JSMEEditor # panel_chemistry needs to be imported before you run pn.extension()\n",
    "\n",
    "pn.extension(\"jsme\", sizing_mode=\"stretch_width\")"
   ]
  },
  {
   "cell_type": "code",
   "execution_count": null,
   "id": "13bd929d-d3a5-4e2c-8c0b-492dc3e3d3d9",
   "metadata": {},
   "outputs": [],
   "source": [
    "smiles=\"N[C@@H](CCC(=O)N[C@@H](CS)C(=O)NCC(=O)O)C(=O)O\"\n",
    "editor = JSMEEditor(value=smiles, height=500, format=\"smiles\")\n",
    "\n",
    "pn.Column(editor, editor.param.value)"
   ]
  },
  {
   "cell_type": "markdown",
   "id": "cbdbe6c4-25a7-49be-b7f7-66d5fab7968e",
   "metadata": {},
   "source": [
    "## Example - All Parameters"
   ]
  },
  {
   "cell_type": "code",
   "execution_count": null,
   "id": "97c39491-6796-42c6-a28a-05480dddb7de",
   "metadata": {},
   "outputs": [],
   "source": [
    "values = pn.Param(editor, parameters=[\"value\", \"jme\", \"smiles\", \"mol\", \"mol3000\", \"sdf\"], widgets={\n",
    "    \"value\": {\"type\": pn.widgets.TextAreaInput, \"height\": 200},\n",
    "    \"jme\": {\"type\": pn.widgets.TextAreaInput, \"height\": 200},\n",
    "    \"smile\": {\"type\": pn.widgets.TextAreaInput, \"height\": 200},\n",
    "    \"mol\": {\"type\": pn.widgets.TextAreaInput, \"height\": 200},\n",
    "    \"mol3000\": {\"type\": pn.widgets.TextAreaInput, \"height\": 200},\n",
    "    \"sdf\": {\"type\": pn.widgets.TextAreaInput, \"height\": 200},\n",
    "    })"
   ]
  },
  {
   "cell_type": "code",
   "execution_count": null,
   "id": "fda4ce67-2e08-4dd1-8370-cc8b140880da",
   "metadata": {},
   "outputs": [],
   "source": [
    "settings = pn.Param(editor,\n",
    "    parameters=[\"height\", \"width\", \"sizing_mode\", \"subscriptions\", \"format\", \"options\", \"guicolor\"],\n",
    "    widgets={\n",
    "        \"options\": {\"height\": 300},\n",
    "    })"
   ]
  },
  {
   "cell_type": "code",
   "execution_count": null,
   "id": "f344ccb9-73ae-4797-b1a3-a40853270bce",
   "metadata": {},
   "outputs": [],
   "source": [
    "pn.Row(pn.Column(editor, values), pn.WidgetBox(settings, sizing_mode=\"fixed\", width=300))"
   ]
  },
  {
   "cell_type": "markdown",
   "id": "c3a610ac-8b26-413d-997d-7a75b8192aab",
   "metadata": {},
   "source": [
    "## App"
   ]
  },
  {
   "cell_type": "code",
   "execution_count": null,
   "id": "5604d1e5-f1a1-4304-8dfb-77728c19aaee",
   "metadata": {},
   "outputs": [],
   "source": [
    "accent=\"#00A170\""
   ]
  },
  {
   "cell_type": "code",
   "execution_count": null,
   "id": "8aabd1e2-4ab4-41fd-a0f6-62c9098ec0f7",
   "metadata": {},
   "outputs": [],
   "source": [
    "pn.template.FastListTemplate(\n",
    "    site=\"Panel Chemistry\", site_url=\"./\",\n",
    "    title=\"JSME Editor\", \n",
    "    sidebar=[settings],\n",
    "    main=[editor, values],\n",
    "    accent_base_color=accent, header_background=accent,\n",
    ").servable();"
   ]
  },
  {
   "cell_type": "markdown",
   "id": "0e69d85b",
   "metadata": {},
   "source": [
    "Serve the app via `panel serve JSMEEditor.ipynb` and check it out at http://localhost:5006/JSMEEditor\n",
    "\n",
    "If you add the flag `--autoreload` you will get automatic reloading when ever you save the file.\n",
    "\n",
    "You can also use the [Panel Jupyter Preview](https://blog.holoviz.org/panel_0.12.0.html#JupyterLab-previews) to serve the app in a seperate window in Jupyter Lab."
   ]
  }
 ],
 "metadata": {
  "kernelspec": {
   "display_name": "Python [conda env:root] *",
   "language": "python",
   "name": "conda-root-py"
  },
  "language_info": {
   "codemirror_mode": {
    "name": "ipython",
    "version": 3
   },
   "file_extension": ".py",
   "mimetype": "text/x-python",
   "name": "python",
   "nbconvert_exporter": "python",
   "pygments_lexer": "ipython3"
  }
 },
 "nbformat": 4,
 "nbformat_minor": 5
}
