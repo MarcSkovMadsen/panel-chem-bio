{
 "cells": [
  {
   "cell_type": "markdown",
   "metadata": {},
   "source": [
    "# 🧪 Panel Chemistry - PDBe Molstar\n",
    "\n",
    "The Panel Chemistry `PDBeMolStar` allows you to use the powerful PBDe JS plugin implementation of the Mol* ('MolStar') viewer. \n",
    "\n",
    "[PDBe Mol*](https://github.com/PDBeurope/pdbe-molstar) using Python 🐍 and [HoloViz Panel](https://panel.holoviz.org/) ❤️. \n",
    "\n",
    "![PDBe MolStarWebComponent](../assets/PDBe_Molstar.png) (needs updating)\n",
    "\n",
    "When using Mol*, please cite:\n",
    "\n",
    "- David Sehnal, Sebastian Bittrich, Mandar Deshpande, Radka Svobodová, Karel Berka, \n",
    "Václav Bazgier, Sameer Velankar, Stephen K Burley, Jaroslav Koča, Alexander S Rose: \n",
    "Mol* Viewer: modern web app for 3D visualization and analysis of large biomolecular structures, \n",
    "Nucleic Acids Research, 2021; https://doi.org/10.1093/nar/gkab314.\n",
    "\n",
    "The `PDBeMolStar` is based on a panel `ReactiveHTML` pane and thus can be used as any pane in a web application or in Jupyter notebooks. \n",
    "\n",
    "Two CSS themes are available, to select them use `theme='default'` or `theme='dark'`.  Note that currently the theme setting is shared between all Mol* viewer instances, when executing the cell below the .css theme of the viewer above updates"
   ]
  },
  {
   "cell_type": "code",
   "execution_count": null,
   "metadata": {},
   "outputs": [],
   "source": [
    "from panel_chemistry.pane import PDBeMolStar\n",
    "import param\n",
    "import panel as pn\n",
    "pn.extension(sizing_mode=\"stretch_width\", template=\"fast\")"
   ]
  },
  {
   "cell_type": "markdown",
   "metadata": {},
   "source": [
    "## Basic Examples\n",
    "\n",
    "Download and display the '1qyn' molecule from the protein database:\n"
   ]
  },
  {
   "cell_type": "code",
   "execution_count": null,
   "metadata": {},
   "outputs": [],
   "source": [
    "PDBeMolStar(\n",
    "    height=500,\n",
    "    molecule_id='1qyn')"
   ]
  },
  {
   "cell_type": "markdown",
   "metadata": {},
   "source": [
    "Using a local file, using Jupyter to serve the file. \n",
    "Make sure url of the file to show is correct relative to where Jupyter notebook was started. For the example below, start Jupyter Notebook in the panel-chemistry root dir"
   ]
  },
  {
   "cell_type": "code",
   "execution_count": null,
   "metadata": {},
   "outputs": [],
   "source": [
    "PDBeMolStar(\n",
    "    name='Local File',\n",
    "    sizing_mode='stretch_width',\n",
    "    height=500,\n",
    "    custom_data = {\n",
    "        'url': 'http://localhost:8888/files/examples/assets/1qyn.pdb',\n",
    "        'format': 'pdb'\n",
    "    },\n",
    ")"
   ]
  },
  {
   "cell_type": "markdown",
   "metadata": {},
   "source": [
    "## Tweaking the viewer appearance and coloring"
   ]
  },
  {
   "cell_type": "code",
   "execution_count": null,
   "metadata": {},
   "outputs": [],
   "source": [
    "molstar = PDBeMolStar(\n",
    "    height=500,\n",
    "    hide_water=True,\n",
    "    theme='dark',\n",
    "    lighting='metallic',\n",
    "    hide_expand_icon=True,\n",
    "    hide_animation_icon=True,\n",
    "    sequence_panel=False,\n",
    "    highlight_color='#d1fa07',\n",
    "    bg_color='#040724',\n",
    "    molecule_id='1qyn')\n",
    "\n",
    "molstar"
   ]
  },
  {
   "cell_type": "markdown",
   "metadata": {},
   "source": [
    "More customization options can be found by looking at the parameters defined on `PDBeMolStar`\n",
    "\n",
    "The method `color` can be used to select and color parts of the molecule. See [PDBe Mol* wiki - helper methods](https://github.com/molstar/pdbe-molstar/wiki/3.-Helper-Methods) for details."
   ]
  },
  {
   "cell_type": "code",
   "execution_count": null,
   "metadata": {},
   "outputs": [],
   "source": [
    "\n",
    "# Color a part of chain A yellow and color anything that wasnt selected blue (updates in the viewer above)\n",
    "data = {\n",
    "    'start_residue_number': 10,\n",
    "    'end_residue_number': 125,\n",
    "    'struct_asym_id': 'A',\n",
    "    'color': {'r': 255, 'g': 215, 'b': 0},\n",
    "    'focus': False,\n",
    "    }\n",
    "\n",
    "molstar.color([data], non_selected_color = {'r': 0, 'g': 87, 'b': 183})"
   ]
  },
  {
   "cell_type": "code",
   "execution_count": null,
   "metadata": {},
   "outputs": [],
   "source": [
    "# Clear the colors / selection\n",
    "molstar.clear_selection()"
   ]
  },
  {
   "cell_type": "markdown",
   "metadata": {},
   "source": [
    "## Custom data and alphafold view\n",
    "\n",
    "Custom data can be loaded by providing an URL through the `custom_data` dictionary. the format of the custom data needs to be specified as well."
   ]
  },
  {
   "cell_type": "code",
   "execution_count": null,
   "metadata": {},
   "outputs": [],
   "source": [
    "PDBeMolStar(\n",
    "    height=500,\n",
    "    custom_data = {\n",
    "        'url': 'https://alphafold.ebi.ac.uk/files/AF-O15552-F1-model_v1.cif',\n",
    "        'format': 'cif'\n",
    "    },\n",
    "    alphafold_view=True, \n",
    ")"
   ]
  },
  {
   "cell_type": "markdown",
   "metadata": {},
   "source": [
    "## Interactivity"
   ]
  },
  {
   "cell_type": "code",
   "execution_count": null,
   "metadata": {},
   "outputs": [],
   "source": [
    "molstar = PDBeMolStar(\n",
    "    height=500,\n",
    "    molecule_id='1qyn')\n",
    "\n",
    "parameters = [\n",
    "    'molecule_id',\n",
    "    'hide_water', \n",
    "    'hide_polymer',\n",
    "    'visual_style',\n",
    "    'lighting',\n",
    "]\n",
    "controls = pn.Param(molstar, parameters=parameters, width=300, sizing_mode=\"fixed\")\n",
    "\n",
    "pn.Row(controls, molstar)"
   ]
  },
  {
   "cell_type": "markdown",
   "metadata": {},
   "source": [
    "## Creating an app"
   ]
  },
  {
   "cell_type": "code",
   "execution_count": null,
   "metadata": {},
   "outputs": [],
   "source": [
    "local_pdbe = PDBeMolStar(\n",
    "    name='Local File',\n",
    "    sizing_mode='stretch_width',\n",
    "    height=500,\n",
    "    custom_data = {\n",
    "        'url': 'https://raw.githubusercontent.com/MarcSkovMadsen/panel-chemistry/main/examples/assets/1qyn.pdb',\n",
    "        'format': 'pdb'\n",
    "    },\n",
    ")\n",
    "\n",
    "parameters = [\n",
    "    'hide_water', \n",
    "    'hide_polymer',\n",
    "    'visual_style',\n",
    "    'lighting',\n",
    "    'spin'\n",
    "]\n",
    "\n",
    "class Controller(param.Parameterized):\n",
    "    chain = param.Selector(default='A', objects=['A', 'B', 'C', 'D'])\n",
    "    apply_colors = param.Action(lambda self: self._action_color())\n",
    "    reset_colors = param.Action(lambda self: self._action_reset_color())\n",
    "    residues = param.Tuple((20, 50))\n",
    "    highlight = param.Action(lambda self: self._action_highlight())\n",
    "    clear_highlight = param.Action(lambda self: self.pdbe.clear_highlight())\n",
    "    reset = param.Action(lambda self: self._action_reset())\n",
    "    \n",
    "    def __init__(self, pdbe, **params):\n",
    "        self.pdbe = pdbe\n",
    "        super().__init__(**params)\n",
    "        \n",
    "    def _action_color(self):\n",
    "        \"\"\"Color one chain yellow, color everything else blue\"\"\"\n",
    "        \n",
    "        data = {\n",
    "            'struct_asym_id': self.chain,\n",
    "            'color': {'r': 255, 'g': 215, 'b': 0}\n",
    "        }\n",
    "        \n",
    "        self.pdbe.color([data], non_selected_color={'r': 0, 'g': 87, 'b': 183})\n",
    "\n",
    "    def _action_reset_color(self):\n",
    "        self.pdbe.clear_selection()\n",
    "    \n",
    "    def _action_highlight(self):\n",
    "        data = {\n",
    "            'start_residue_number': self.residues[0],\n",
    "            'end_residue_number': self.residues[1],\n",
    "            'struct_asym_id': self.chain,\n",
    "            'color': {'r': 255, 'g': 105, 'b': 180},\n",
    "        }\n",
    "        \n",
    "        self.pdbe.highlight([data])\n",
    "\n",
    "    def _action_reset(self):\n",
    "        data = {\n",
    "            'camera': True,\n",
    "            'theme': True,  # reset theme doesnt work\n",
    "            'highlightcolor': True,\n",
    "            'selectColor': True\n",
    "        }\n",
    "        self.pdbe.reset(data)\n",
    "\n",
    "ctrl = Controller(local_pdbe)\n",
    "slider = pn.widgets.IntRangeSlider(name='Residues', start=15, end=150, value=(20, 50), step=1)\n",
    "ctrl_widgets = pn.Param(ctrl, name=\"Controls\", widgets={'residues': slider})"
   ]
  },
  {
   "cell_type": "code",
   "execution_count": null,
   "metadata": {},
   "outputs": [],
   "source": [
    "local_pdbe.servable()"
   ]
  },
  {
   "cell_type": "code",
   "execution_count": null,
   "metadata": {},
   "outputs": [],
   "source": [
    "ctrl_widgets.servable(area=\"sidebar\")"
   ]
  },
  {
   "cell_type": "code",
   "execution_count": null,
   "metadata": {},
   "outputs": [],
   "source": [
    "pn.Param(local_pdbe, parameters=parameters, name=\"Controls\").servable(area=\"sidebar\")"
   ]
  },
  {
   "cell_type": "code",
   "execution_count": null,
   "metadata": {},
   "outputs": [],
   "source": [
    "pn.state.template.param.update(site=\"Panel Chemistry\", site_url=\"./\", title=\"PDBe MolStar Pane\", header_background='#0066cc', accent_base_color='#ffcc00');"
   ]
  },
  {
   "cell_type": "markdown",
   "metadata": {},
   "source": [
    "Serve the app via `panel serve PDBe_MolStar.ipynb` and check it out at http://localhost:5006/PDBe_MolStar.\n",
    "\n",
    "If you add the flag `--autoreload` you will get automatic reloading when ever you save the file."
   ]
  },
  {
   "cell_type": "markdown",
   "metadata": {},
   "source": [
    "## Local Files\n",
    "\n",
    "If you want to use local files Panel can help you. Assuming file `1qyn.pdb` is in the folder `my_assets_folder` folder you can change the above code to\n",
    "\n",
    "```python\n",
    "local_pdbe = PDBeMolStar(\n",
    "    name='Local File',\n",
    "    sizing_mode='stretch_width',\n",
    "    height=500,\n",
    "    custom_data = {\n",
    "        'url': 'assets/1qyn.pdb',\n",
    "        'format': 'pdb'\n",
    "    },\n",
    ")\n",
    "```\n",
    "\n",
    "and serve the app via `panel serve PDBe_MolStar.ipynb --static-dirs assets=my_assets_folder`"
   ]
  }
 ],
 "metadata": {
  "interpreter": {
   "hash": "d365debf6811b692f313bc26504a9ae09f2750d651e640fad2313b092aca539b"
  },
  "kernelspec": {
   "display_name": "Python 3 (ipykernel)",
   "language": "python",
   "name": "python3"
  },
  "language_info": {
   "codemirror_mode": {
    "name": "ipython",
    "version": 3
   },
   "file_extension": ".py",
   "mimetype": "text/x-python",
   "name": "python",
   "nbconvert_exporter": "python",
   "pygments_lexer": "ipython3"
  }
 },
 "nbformat": 4,
 "nbformat_minor": 4
}
